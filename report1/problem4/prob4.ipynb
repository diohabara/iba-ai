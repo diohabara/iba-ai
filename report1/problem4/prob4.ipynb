{
 "cells": [
  {
   "cell_type": "markdown",
   "id": "a5e6cea8-dfd7-47e0-9f35-1248a8e9d71b",
   "metadata": {},
   "source": [
    "# 課題番号4\n",
    "\n",
    "* Name: Kadoi Takemaru\n",
    "* ID: 03-190413\n",
    "\n",
    "次のようなバケツパズルを解いてみよう。 番号を振った$n$個のバケツが順に並べてある。$i$番のバケツには$n+1-i$という番号が振られたボールが$2$つ入っている。 隣り合ったバケツから$1$つずつボールを取り出して交換するという操作を考える。 すべてのボールが自分と同じ番号のバケツに入るようにするのがゴールである。\n",
    "\n",
    "$n=4$と$n=5$については、 `A*`,`深さ優先探索`,`広さ優先探索`をそれぞれ実行して探索の効率（解に到達するまでのノー ドの展開数）を比較すること。"
   ]
  },
  {
   "cell_type": "markdown",
   "id": "46626b10-e888-4780-b217-bc27ebd805c4",
   "metadata": {},
   "source": [
    "## 簡単なコード説明\n",
    "\n",
    "以下はバケツパズルを解くのに使用した関数である。それぞれのセルごとに`補助関数`、`深さ優先探索`、`幅優先探索`、`A*`のコードが書かれている。以下ではそれぞれのアルゴリズムの説明をする。\n",
    "\n",
    "各アルゴリズムに共通して配列の$i$番目の要素は$i$が奇数のとき$2i+1$番目、$i$が偶数のとき$2i$番目のバケツのボールの番号である。\n",
    "\n",
    "### 実行環境\n",
    "\n",
    "`python3.8`以上でJupyterを使用した。\n",
    "\n",
    "### 深さ優先探索\n",
    "\n",
    "FIFOを用いる。\n",
    "FIFOは最初、初期のバケツが入っており、隣接したバケツを探索し探索したノード(バケツ)を格納していく。\n",
    "\n",
    "### 幅優先探索\n",
    "\n",
    "LIFOを用いる。\n",
    "LIFOは最初、初期のバケツが入っており、隣接したバケツを探索し探索したノード(バケツ)を格納していく。\n",
    "\n",
    "### A*\n",
    "\n",
    "ヒューリスティックにはマンハッタン距離を求める関数を用いる。\n",
    "\n",
    "なお、アルゴリズムは[Wikipedia](https://ja.wikipedia.org/wiki/A*)と[こちらのページ](http://www.nct9.ne.jp/m_hiroi/light/pyalgo28.html)また、[最短経路探索ゼミ](http://bin.t.u-tokyo.ac.jp/tansaku_18/)のコードを参考にした。"
   ]
  },
  {
   "cell_type": "code",
   "execution_count": 118,
   "id": "27999c2d-a002-4ccf-a0c3-eaaceddf1197",
   "metadata": {},
   "outputs": [],
   "source": [
    "# ライブラリ\n",
    "from collections import deque\n",
    "from collections import defaultdict\n",
    "import heapq\n",
    "\n",
    "# 補助関数\n",
    "# パズルの答えを作る\n",
    "def create_answer(n):\n",
    "    result = []\n",
    "    for i in range(n):\n",
    "        result.append(i+1)\n",
    "        result.append(i+1)\n",
    "    return result\n",
    "\n",
    "# 与えられるバケツを作る\n",
    "def create_bucket(n):\n",
    "    return create_answer(n)[::-1]\n",
    "\n",
    "# バケツの玉を交換する際の添字を作る\n",
    "def create_swap_list(n):\n",
    "    result = []\n",
    "    for i in range(2*n - 2):\n",
    "        if i % 2 == 0:\n",
    "            result.append((i, i+2))\n",
    "            result.append((i, i+3))\n",
    "        else:\n",
    "            result.append((i, i+1))\n",
    "            result.append((i, i+2))\n",
    "    return result\n",
    "\n",
    "# バケツの配列がどのような推移をしたか配列で返す\n",
    "def find_transition(l, dic):\n",
    "    cur = l.copy()\n",
    "    result = [cur]\n",
    "    while True:\n",
    "        hash_key = \"\".join(map(str, cur))\n",
    "        if hash_key in dic:\n",
    "            cur = dic[hash_key]\n",
    "            result.append(cur)\n",
    "        else:\n",
    "            return result[::-1]\n",
    "\n",
    "# 2つの配列のマンハッタン距離を求める\n",
    "def calc_manhathan(l, answer):\n",
    "    return sum([e1 != e2 for e1, e2 in zip(l, answer)])"
   ]
  },
  {
   "cell_type": "code",
   "execution_count": null,
   "id": "083fd8b3-d997-48ea-a613-e4c568622546",
   "metadata": {},
   "outputs": [],
   "source": [
    "# 深さ優先探索\n",
    "def dfs(n):\n",
    "    bucket = create_bucket(n)\n",
    "    answer = create_answer(n)\n",
    "    swap_list = create_swap_list(n)\n",
    "    total_step = 0\n",
    "    step_of_bucket = {}\n",
    "    step_of_bucket[\"\".join(map(str, bucket))] = 0\n",
    "    parent_of_bucket = {}\n",
    "    stack = [bucket]\n",
    "    while stack:\n",
    "        cur = stack.pop()\n",
    "        cur_step = step_of_bucket[\"\".join(map(str, cur))]\n",
    "        if cur == answer:\n",
    "            print(f\"DFS: {total_step=}, {cur_step=}\")\n",
    "            print(f\"Trainsition sequence: {find_transition(cur, parent_of_bucket)}\")\n",
    "            return\n",
    "        for (i, j) in swap_list:\n",
    "            total_step += 1\n",
    "            new_bucket = cur.copy()\n",
    "            new_bucket[i], new_bucket[j] = new_bucket[j], new_bucket[i]\n",
    "            if (hash_key := \"\".join(map(str, new_bucket))) not in step_of_bucket:\n",
    "                parent_of_bucket[hash_key] = cur\n",
    "                step_of_bucket[hash_key] = cur_step + 1\n",
    "                stack.append(new_bucket)\n",
    "    print(\"DFS: no answer\")"
   ]
  },
  {
   "cell_type": "code",
   "execution_count": null,
   "id": "2992bb13-ddcf-402c-a139-9b7098e6baeb",
   "metadata": {},
   "outputs": [],
   "source": [
    "# 幅優先探索\n",
    "def bfs(n):\n",
    "    bucket = create_bucket(n)\n",
    "    answer = create_answer(n)\n",
    "    swap_list = create_swap_list(n)\n",
    "    total_step = 0\n",
    "    step_of_bucket = {}\n",
    "    step_of_bucket[\"\".join(map(str, bucket))] = 0\n",
    "    parent_of_bucket = {}\n",
    "    queue = deque([bucket])\n",
    "    while queue:\n",
    "        cur = queue.popleft()\n",
    "        cur_step = step_of_bucket[\"\".join(map(str, cur))]\n",
    "        if cur == answer:\n",
    "            print(f\"BFS: {total_step=}, {cur_step=}\")\n",
    "            print(f\"Trainsition sequence: {find_transition(cur, parent_of_bucket)}\")\n",
    "            return\n",
    "        for (i, j) in swap_list:\n",
    "            total_step += 1\n",
    "            new_bucket = cur.copy()\n",
    "            new_bucket[i], new_bucket[j] = new_bucket[j], new_bucket[i]\n",
    "            if (hash_key := \"\".join(map(str, new_bucket))) not in step_of_bucket:\n",
    "                parent_of_bucket[hash_key] = cur\n",
    "                step_of_bucket[hash_key] = cur_step + 1\n",
    "                queue.append(new_bucket)\n",
    "    print(\"BFS: no answer\")"
   ]
  },
  {
   "cell_type": "code",
   "execution_count": null,
   "id": "9732c603-ff58-4849-b2ea-102589935281",
   "metadata": {},
   "outputs": [],
   "source": [
    "# A*\n",
    "def astar(n):\n",
    "    bucket = create_bucket(n)\n",
    "    answer = create_answer(n)\n",
    "    swap_list = create_swap_list(n)\n",
    "    total_step = 0\n",
    "    step_of_bucket = {}\n",
    "    step_of_bucket[tuple(bucket)] = 0\n",
    "    parent_of_bucket = {}\n",
    "    close_set = [] # 計算済みのノード\n",
    "    open_set = [bucket] # 計算中のノード\n",
    "    g_score = defaultdict(lambda: float(\"inf\")) # nodeまでのコストの推定値\n",
    "    f_score = defaultdict(float) # nodeからゴールまでのコストの推定値\n",
    "    while open_set:\n",
    "        cur = min((f_score[tuple(node)], node) for node in open_set)[1]\n",
    "        cur_step = step_of_bucket[tuple(cur)]\n",
    "        if cur == answer:\n",
    "            print(f\"A*: {total_step=} {cur_step=}\")\n",
    "            print(f\"Trainsition sequence: {find_transition(cur, parent_of_bucket)}\")\n",
    "            return\n",
    "        open_set.remove(cur)\n",
    "        close_set.append(cur)\n",
    "        for (i, j) in swap_list:\n",
    "            total_step += 1\n",
    "            nei = cur.copy()\n",
    "            nei[i], nei[j] = nei[j], nei[i]\n",
    "            if nei in close_set:\n",
    "                continue\n",
    "            step_of_bucket[tuple(nei)] = cur_step + 1\n",
    "            parent_of_bucket[tuple(nei)] = cur\n",
    "            if nei not in open_set:\n",
    "                step_of_bucket[tuple(nei)] = cur_step + 1\n",
    "                open_set.append(nei)\n",
    "            tentative_g_score = g_score[tuple(cur)] + 1\n",
    "            if tentative_g_score >= g_score[tuple(nei)]:\n",
    "                continue\n",
    "            g_score[tuple(nei)] = tentative_g_score\n",
    "            f_score[tuple(nei)] = g_score[tuple(nei)] + calc_manhathan(nei, answer)\n",
    "    print(\"A*: no answer\")"
   ]
  },
  {
   "cell_type": "markdown",
   "id": "59753f71-2bf5-4b8b-82fd-327ceafb9515",
   "metadata": {},
   "source": [
    "## n=4のときの交換操作列を求めよ。"
   ]
  },
  {
   "cell_type": "markdown",
   "id": "3b8e8871-2728-448b-bd27-405172867342",
   "metadata": {},
   "source": [
    "解に到達するまでのノードの展開数は以下の通りとなった。\n",
    "\n",
    "|DFS|BFS|A*|\n",
    "|-|-|-|\n",
    "|13440|30228|180|\n",
    "\n",
    "一方、元のバケツから解のバケツまでに必要な遷移の仕方はそれぞれ下のような結果となる。\n",
    "\n",
    "|DFS|BFS|A*|\n",
    "|-|-|-|\n",
    "|303|10|16|\n",
    "\n",
    "下のセルを実行するとDFS、DFS、A*でのノードの展開数、解に到達するまでに必要な遷移数、その際の遷移列がわかる"
   ]
  },
  {
   "cell_type": "code",
   "execution_count": null,
   "id": "ace8c971-7ad1-4339-a694-bb15f02c8952",
   "metadata": {
    "scrolled": true,
    "tags": []
   },
   "outputs": [],
   "source": [
    "dfs(4)\n",
    "bfs(4)\n",
    "astar(4)"
   ]
  },
  {
   "cell_type": "markdown",
   "id": "dbb5122f-cfc4-4b81-b6c4-172967beba4e",
   "metadata": {},
   "source": [
    "## n=5のときの交換操作列を求めよ。"
   ]
  },
  {
   "cell_type": "markdown",
   "id": "3a4f1e77-b79d-485a-880e-414d69432050",
   "metadata": {},
   "source": [
    "解に到達するまでのノードの展開数は以下の通りとなった。\n",
    "\n",
    "|DFS|BFS|A*|\n",
    "|-|-|-|\n",
    "|285952|1814384|416|\n",
    "\n",
    "一方、元のバケツから解のバケツまでに必要な遷移の仕方はそれぞれ下のような結果となる。\n",
    "\n",
    "|DFS|BFS|A*|\n",
    "|-|-|-|\n",
    "|17158|15|26|\n",
    "\n",
    "下のセルを実行するとDFS、DFS、A*でのノードの展開数、解に到達するまでに必要な遷移数、その際の遷移列がわかる"
   ]
  },
  {
   "cell_type": "code",
   "execution_count": null,
   "id": "a8a95149-8f3b-437c-b9d2-c6897f697798",
   "metadata": {
    "scrolled": true,
    "tags": []
   },
   "outputs": [],
   "source": [
    "dfs(5)\n",
    "bfs(5)\n",
    "astar(5)"
   ]
  },
  {
   "cell_type": "markdown",
   "id": "fe51c6a8-c832-4c89-b955-4a9f99ecbbea",
   "metadata": {},
   "source": [
    "## n=6のときのできるだけ少ない回数の交換操作列を求めよ。"
   ]
  },
  {
   "cell_type": "markdown",
   "id": "46721518-1277-495c-8cf5-e5ee1265f3b8",
   "metadata": {},
   "source": [
    "次のセルを実行することで交換操作列を求めることができる。\n",
    "\n",
    "BFSを用いた結果、ノードの展開数は149687980、解までに必要な遷移数は23とわかった。"
   ]
  },
  {
   "cell_type": "code",
   "execution_count": null,
   "id": "ec7b9911-49dc-4c55-9257-838238143071",
   "metadata": {
    "scrolled": true,
    "tags": []
   },
   "outputs": [],
   "source": [
    "bfs(6)"
   ]
  },
  {
   "cell_type": "markdown",
   "id": "7989875e-3b9f-4d39-8232-bbd68b3efcb8",
   "metadata": {},
   "source": [
    "## 考察\n",
    "\n",
    "上記の結果から今回の例では求める交換操作列を高速に求めたい場合は`A*`、少ない回数の交換操作列を求めたい場合は`BFS`を使うべきだということが推測できる。`DFS`は今回の例では`A*`の下位互換という結果になった。\n",
    "\n",
    "また、速度と得られる交換操作列の回数の少なさはトレードオフの関係にあり、`BFS`では高速に探索することは困難なので共に高い値を得るためには`A*`のヒューリスティックを適切に選ぶ必要があると考えられる。"
   ]
  }
 ],
 "metadata": {
  "kernelspec": {
   "display_name": "Python 3",
   "language": "python",
   "name": "python3"
  },
  "language_info": {
   "codemirror_mode": {
    "name": "ipython",
    "version": 3
   },
   "file_extension": ".py",
   "mimetype": "text/x-python",
   "name": "python",
   "nbconvert_exporter": "python",
   "pygments_lexer": "ipython3",
   "version": "3.8.8"
  }
 },
 "nbformat": 4,
 "nbformat_minor": 5
}
